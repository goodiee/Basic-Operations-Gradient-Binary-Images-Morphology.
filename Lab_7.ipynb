{
  "nbformat": 4,
  "nbformat_minor": 0,
  "metadata": {
    "colab": {
      "provenance": [],
      "gpuType": "T4"
    },
    "kernelspec": {
      "name": "python3",
      "display_name": "Python 3"
    },
    "language_info": {
      "name": "python"
    },
    "accelerator": "GPU"
  },
  "cells": [
    {
      "cell_type": "code",
      "source": [
        "from google.colab import drive\n",
        "drive.mount('/content/drive/')"
      ],
      "metadata": {
        "colab": {
          "base_uri": "https://localhost:8080/"
        },
        "id": "513h589-Yzd9",
        "outputId": "9528ec2f-60da-469c-d52a-b7db84956a2b"
      },
      "execution_count": 1,
      "outputs": [
        {
          "output_type": "stream",
          "name": "stdout",
          "text": [
            "Drive already mounted at /content/drive/; to attempt to forcibly remount, call drive.mount(\"/content/drive/\", force_remount=True).\n"
          ]
        }
      ]
    },
    {
      "cell_type": "code",
      "source": [
        "import os\n",
        "import zipfile\n",
        "import pandas as pd\n",
        "from sklearn.model_selection import train_test_split\n",
        "\n",
        "# Step 1: Unzip the input file\n",
        "input_file = '/content/drive/MyDrive/ColabNotebooks_/Lab-7/HippocampusMR.zip'  # TODO: Update with the actual path to the zip file\n",
        "output_folder = '/content/drive/MyDrive/ColabNotebooks_/Lab-7/' # TODO: Update with the actual path to the output folder\n",
        "\n",
        "!unzip $input_file -d $output_folder\n"
      ],
      "metadata": {
        "colab": {
          "base_uri": "https://localhost:8080/"
        },
        "id": "nbjWiUTrdMub",
        "outputId": "dbe1b82b-7423-44e1-d991-60a8f6faeac8"
      },
      "execution_count": 3,
      "outputs": [
        {
          "output_type": "stream",
          "name": "stdout",
          "text": [
            "Archive:  /content/drive/MyDrive/ColabNotebooks_/Lab-7/HippocampusMR.zip\n",
            "replace /content/drive/MyDrive/ColabNotebooks_/Lab-7/HippocampusMR/imagesTr/HippocampusMR_0037_0000.nii.gz? [y]es, [n]o, [A]ll, [N]one, [r]ename: "
          ]
        }
      ]
    },
    {
      "cell_type": "code",
      "source": [
        "import os\n",
        "import pandas as pd\n",
        "from sklearn.model_selection import train_test_split\n",
        "\n",
        "output_folder_1 = '/content/drive/MyDrive/ColabNotebooks_/Lab-7/HippocampusMR/'\n",
        "dataset_path = output_folder_1\n",
        "dataset_csv_path = os.path.join(dataset_path, \"dataset.csv\")\n",
        "training_csv_path = os.path.join(dataset_path, \"dataset_training.csv\")\n",
        "validation_csv_path = os.path.join(dataset_path, \"dataset_validation.csv\")\n",
        "testing_csv_path = os.path.join(dataset_path, \"dataset_testing.csv\")\n",
        "\n",
        "image_dir = os.path.join(dataset_path, 'imagesTr')\n",
        "label_dir = os.path.join(dataset_path, 'labelsTr')\n",
        "\n",
        "data = []\n",
        "\n",
        "for image_filename in os.listdir(image_dir):\n",
        "    image_path = os.path.join('imagesTr', image_filename)\n",
        "    label_filename = image_filename.replace('.jpg', '_label.jpg')\n",
        "    label_path = os.path.join('labelsTr', label_filename)\n",
        "\n",
        "    data.append({'Image_Path': image_path, 'Label_Path': label_path})\n",
        "\n",
        "dataframe = pd.DataFrame(data)\n",
        "\n",
        "split_ratio = (0.7, 0.1, 0.2)\n",
        "train_size = split_ratio[0]\n",
        "val_size = split_ratio[1]\n",
        "test_size = split_ratio[2]\n",
        "\n",
        "val_test_size = val_size + test_size\n",
        "val_relative_size = val_size / val_test_size\n",
        "\n",
        "training_dataframe, temp_dataframe = train_test_split(dataframe, test_size=val_test_size, random_state=42)\n",
        "validation_dataframe, testing_dataframe = train_test_split(temp_dataframe, test_size=1 - val_relative_size, random_state=42)\n",
        "\n",
        "dataframe.to_csv(dataset_csv_path, index=False)\n",
        "training_dataframe.to_csv(training_csv_path, index=False)\n",
        "validation_dataframe.to_csv(validation_csv_path, index=False)\n",
        "testing_dataframe.to_csv(testing_csv_path, index=False)\n",
        "\n",
        "print(f\"Number of cases: {len(dataframe)}\")\n",
        "print(f\"Number of training cases: {len(training_dataframe)}\")\n",
        "print(f\"Number of validation cases: {len(validation_dataframe)}\")\n",
        "print(f\"Number of testing cases: {len(testing_dataframe)}\")\n"
      ],
      "metadata": {
        "colab": {
          "base_uri": "https://localhost:8080/"
        },
        "id": "Eznvb1bvduha",
        "outputId": "a51806bb-689b-44df-db70-e759970fd55a"
      },
      "execution_count": 4,
      "outputs": [
        {
          "output_type": "stream",
          "name": "stdout",
          "text": [
            "Number of cases: 261\n",
            "Number of training cases: 182\n",
            "Number of validation cases: 26\n",
            "Number of testing cases: 53\n"
          ]
        }
      ]
    },
    {
      "cell_type": "code",
      "source": [
        "import os\n",
        "import pandas as pd\n",
        "\n",
        "def create_pairs(dataframe):\n",
        "    pairs = []\n",
        "    for index, row in dataframe.iterrows():\n",
        "        source_image = row['Image_Path']\n",
        "        source_label = row['Label_Path']\n",
        "        for index2, row2 in dataframe.iterrows():\n",
        "            if index != index2:\n",
        "                target_image = row2['Image_Path']\n",
        "                target_label = row2['Label_Path']\n",
        "                pairs.append({'Source_Path': source_image,\n",
        "                              'Target_Path': target_image,\n",
        "                              'Source_Label_Path': source_label,\n",
        "                              'Target_Label_Path': target_label})\n",
        "    processed_dataframe = pd.DataFrame(pairs)\n",
        "    return processed_dataframe\n",
        "\n",
        "processed_training_dataframe = create_pairs(training_dataframe)\n",
        "processed_validation_dataframe = create_pairs(validation_dataframe)\n",
        "processed_testing_dataframe = create_pairs(testing_dataframe)\n",
        "\n",
        "print(f\"Number of training pairs: {len(processed_training_dataframe)}\")\n",
        "print(f\"Number of validation pairs: {len(processed_validation_dataframe)}\")\n",
        "print(f\"Number of testing pairs: {len(processed_testing_dataframe)}\")\n",
        "\n",
        "processed_training_csv_path = os.path.join(dataset_path, \"processed_dataset_training.csv\")\n",
        "processed_validation_csv_path = os.path.join(dataset_path, \"processed_dataset_validation.csv\")\n",
        "processed_testing_csv_path = os.path.join(dataset_path, \"processed_dataset_testing.csv\")\n",
        "\n",
        "processed_training_dataframe.to_csv(processed_training_csv_path, index=False)\n",
        "processed_validation_dataframe.to_csv(processed_validation_csv_path, index=False)\n",
        "processed_testing_dataframe.to_csv(processed_testing_csv_path, index=False)\n"
      ],
      "metadata": {
        "colab": {
          "base_uri": "https://localhost:8080/"
        },
        "id": "zegjLKerfVw8",
        "outputId": "e6e603b2-82e8-4535-d436-48fef2a316b0"
      },
      "execution_count": 5,
      "outputs": [
        {
          "output_type": "stream",
          "name": "stdout",
          "text": [
            "Number of training pairs: 32942\n",
            "Number of validation pairs: 650\n",
            "Number of testing pairs: 2756\n"
          ]
        }
      ]
    },
    {
      "cell_type": "code",
      "source": [
        "import torch\n",
        "import torch.utils.data as tcdata\n",
        "import pandas as pd\n",
        "import nibabel as nib\n",
        "import numpy as np\n",
        "\n",
        "class MRRegistrationDataset(tcdata.Dataset):\n",
        "    def __init__(self, images_path, labels_path, csv_path):\n",
        "        self.images_path = images_path\n",
        "        self.labels_path = labels_path\n",
        "        self.dataframe = pd.read_csv(csv_path)\n",
        "\n",
        "    def __len__(self):\n",
        "        return len(self.dataframe)\n",
        "\n",
        "    def __getitem__(self, idx):\n",
        "        current_case = self.dataframe.iloc[idx]\n",
        "        source_image_path = os.path.join(self.images_path, current_case['Source_Path'])\n",
        "        target_image_path = os.path.join(self.images_path, current_case['Target_Path'])\n",
        "        source_label_path = os.path.join(self.labels_path, current_case['Source_Label_Path'])\n",
        "        target_label_path = os.path.join(self.labels_path, current_case['Target_Label_Path'])\n",
        "\n",
        "        source_image = nib.load(source_image_path).get_fdata()\n",
        "        target_image = nib.load(target_image_path).get_fdata()\n",
        "        source_label = nib.load(source_label_path).get_fdata()\n",
        "        target_label = nib.load(target_label_path).get_fdata()\n",
        "\n",
        "        source_image = torch.tensor(source_image).unsqueeze(0)\n",
        "        target_image = torch.tensor(target_image).unsqueeze(0)\n",
        "        source_label = torch.tensor(source_label).unsqueeze(0)\n",
        "        target_label = torch.tensor(target_label).unsqueeze(0)\n",
        "\n",
        "        source_mask = torch.where(source_label > 0, torch.tensor(1), torch.tensor(0))\n",
        "        target_mask = torch.where(target_label > 0, torch.tensor(1), torch.tensor(0))\n",
        "\n",
        "        return source_image, target_image, source_mask, target_mask\n"
      ],
      "metadata": {
        "id": "qtDCEkefiW2n"
      },
      "execution_count": 6,
      "outputs": []
    },
    {
      "cell_type": "code",
      "source": [
        "import matplotlib.pyplot as plt\n",
        "\n",
        "images_path = os.path.join(dataset_path, \"imagesTr\")\n",
        "labels_path = os.path.join(dataset_path, \"labelsTr\")\n",
        "testing_dataset = MRRegistrationDataset(images_path, labels_path, processed_testing_csv_path)\n",
        "\n",
        "batch_size = 2\n",
        "print(f\"Dataset size: {len(testing_dataset)}\")\n",
        "testing_dataloader = tc.utils.data.DataLoader(testing_dataset, batch_size=batch_size, shuffle=False)\n",
        "\n",
        "for sources, targets, sources_masks, targets_masks in testing_dataloader:\n",
        "    rows = batch_size\n",
        "    cols = 4\n",
        "    print(f\"Batch shape: {sources.size()}\")\n",
        "    print(f\"Sources min/max: {sources.min(), sources.max()}\")\n",
        "    print(f\"Targets min/max: {targets.min(), targets.max()}\")\n",
        "    print(f\"Sources_masks min/max: {sources_masks.min(), sources_masks.max()}\")\n",
        "    print(f\"Targets_masks min/max: {targets_masks.min(), targets_masks.max()}\")\n",
        "\n",
        "    inputs = torch.cat((sources, targets), dim=1)\n",
        "\n",
        "    fig, axes = plt.subplots(rows, cols, figsize=(cols * 4, rows * 4))\n",
        "\n",
        "    for i in range(rows):\n",
        "        source_image = sources[i, 0, :, :, sources.shape[4] // 2]\n",
        "        target_image = targets[i, 0, :, :, targets.shape[4] // 2]\n",
        "        source_label = sources_masks[i, 0, :, :, sources_masks.shape[4] // 2]\n",
        "        target_label = targets_masks[i, 0, :, :, targets_masks.shape[4] // 2]\n",
        "\n",
        "        axes[i, 0].imshow(source_image, cmap='gray')\n",
        "        axes[i, 0].axis('off')\n",
        "        axes[i, 0].set_title(\"Source\")\n",
        "\n",
        "        axes[i, 1].imshow(target_image, cmap='gray')\n",
        "        axes[i, 1].axis('off')\n",
        "        axes[i, 1].set_title(\"Target\")\n",
        "\n",
        "        axes[i, 2].imshow(source_label, cmap='gray')\n",
        "        axes[i, 2].axis('off')\n",
        "        axes[i, 2].set_title(\"Source Mask\")\n",
        "\n",
        "        axes[i, 3].imshow(target_label, cmap='gray')\n",
        "        axes[i, 3].axis('off')\n",
        "        axes[i, 3].set_title(\"Target Mask\")\n",
        "\n",
        "    plt.show()\n",
        "    break\n"
      ],
      "metadata": {
        "colab": {
          "base_uri": "https://localhost:8080/",
          "height": 768
        },
        "id": "SF46vpFsiX_l",
        "outputId": "e92cf9cc-2e7b-409c-ea84-e0024b43c575"
      },
      "execution_count": 7,
      "outputs": [
        {
          "output_type": "stream",
          "name": "stdout",
          "text": [
            "Dataset size: 2756\n",
            "Batch shape: torch.Size([2, 1, 64, 64, 64])\n",
            "Sources min/max: (tensor(0., dtype=torch.float64), tensor(1702.1488, dtype=torch.float64))\n",
            "Targets min/max: (tensor(0., dtype=torch.float64), tensor(2510.9287, dtype=torch.float64))\n",
            "Sources_masks min/max: (tensor(0), tensor(1))\n",
            "Targets_masks min/max: (tensor(0), tensor(1))\n"
          ]
        },
        {
          "output_type": "display_data",
          "data": {
            "text/plain": [
              "<Figure size 1600x800 with 8 Axes>"
            ],
            "image/png": "[encoded data removed]"
          },
          "metadata": {}
        }
      ]
    },
    {
      "cell_type": "code",
      "source": [
        "import torch as tc\n",
        "\n",
        "class RegUNet(tc.nn.Module):\n",
        "    def __init__(self):\n",
        "        super(RegUNet, self).__init__()\n",
        "        self.conv1 = tc.nn.Conv3d(2, 16, kernel_size=3, padding=1).cuda().double()\n",
        "        self.conv2 = tc.nn.Conv3d(16, 32, kernel_size=3, padding=1).cuda().double()\n",
        "        self.conv3 = tc.nn.Conv3d(32, 64, kernel_size=3, padding=1).cuda().double()\n",
        "        self.conv4 = tc.nn.Conv3d(64, 64, kernel_size=3, padding=1).cuda().double()\n",
        "        self.upconv1 = tc.nn.ConvTranspose3d(64, 64, kernel_size=2, stride=2).cuda().double()\n",
        "        self.upconv2 = tc.nn.ConvTranspose3d(64, 32, kernel_size=2, stride=2).cuda().double()\n",
        "        self.upconv3 = tc.nn.ConvTranspose3d(32, 16, kernel_size=2, stride=2).cuda().double()\n",
        "        self.upconv4 = tc.nn.ConvTranspose3d(16, 3, kernel_size=2, stride=2).cuda().double()\n",
        "\n",
        "    def forward(self, x):\n",
        "        x = tc.nn.functional.relu(self.conv1(x))\n",
        "        x1 = x\n",
        "        x = tc.nn.functional.max_pool3d(x, 2, 2)\n",
        "        x = tc.nn.functional.relu(self.conv2(x))\n",
        "        x2 = x\n",
        "        x = tc.nn.functional.max_pool3d(x, 2, 2)\n",
        "        x = tc.nn.functional.relu(self.conv3(x))\n",
        "        x3 = x\n",
        "        x = tc.nn.functional.max_pool3d(x, 2, 2)\n",
        "        x = tc.nn.functional.relu(self.conv4(x))\n",
        "        x = tc.nn.functional.relu(self.upconv1(x))\n",
        "        x = x + x3\n",
        "        x = tc.nn.functional.relu(self.upconv2(x))\n",
        "        x = x + x2\n",
        "        x = tc.nn.functional.relu(self.upconv3(x))\n",
        "        x = x + x1\n",
        "        x = self.upconv4(x)\n",
        "        return x\n",
        "\n",
        "# Testing the network\n",
        "model = RegUNet()\n",
        "input_tensor = tc.randn(1, 2, 64, 64, 64).cuda().double()\n",
        "output = model(input_tensor)\n",
        "print(\"Output shape:\", output.shape)\n"
      ],
      "metadata": {
        "id": "LQDf509YmBIX",
        "colab": {
          "base_uri": "https://localhost:8080/"
        },
        "outputId": "786ad8be-8cf1-47c9-afb6-6afd0d55be4f"
      },
      "execution_count": 42,
      "outputs": [
        {
          "output_type": "stream",
          "name": "stdout",
          "text": [
            "Output shape: torch.Size([1, 3, 128, 128, 128])\n"
          ]
        }
      ]
    },
    {
      "cell_type": "code",
      "source": [
        "def generate_grid(tensor_size: tc.Tensor, device=\"cpu\"):\n",
        "    \"\"\"\n",
        "    Utility function to generate an identity transform.\n",
        "    \"\"\"\n",
        "    identity_transform = tc.eye(len(tensor_size)-1, device=device)[:-1, :].unsqueeze(0)\n",
        "    identity_transform = tc.repeat_interleave(identity_transform, tensor_size[0], dim=0)\n",
        "    grid = F.affine_grid(identity_transform, tensor_size, align_corners=False)\n",
        "    return grid\n",
        "\n",
        "def warp_tensor(tensor: tc.Tensor, displacement_field: tc.Tensor, grid: tc.Tensor=None, device: str=\"cpu\", mode: str='bilinear'):\n",
        "    \"\"\"\n",
        "    Utility function to warp the tensors.\n",
        "    \"\"\"\n",
        "    if grid is None:\n",
        "        grid = generate_grid(tensor.size(), device=device)\n",
        "    sampling_grid = grid + displacement_field\n",
        "    transformed_tensor = F.grid_sample(tensor, sampling_grid, mode=mode, padding_mode='zeros', align_corners=False)\n",
        "    return transformed_tensor\n",
        "\n",
        "def ncc_local_tc(sources: tc.Tensor, targets: tc.Tensor, device: str=\"cpu\", **params):\n",
        "    \"\"\"\n",
        "    Local normalized cross correlation.\n",
        "    \"\"\"\n",
        "    ndim = len(sources.size()) - 2\n",
        "    if ndim not in [2, 3]:\n",
        "        raise ValueError(\"Unsupported number of dimensions.\")\n",
        "    try:\n",
        "        win_size = params['win_size']\n",
        "    except:\n",
        "        win_size = 3\n",
        "    window = (win_size, ) * ndim\n",
        "    sum_filt = tc.ones([1, 1, *window]).to(device)\n",
        "    pad_no = math.floor(window[0] / 2)\n",
        "    stride = ndim * (1,)\n",
        "    padding = ndim * (pad_no,)\n",
        "    conv_fn = getattr(F, 'conv%dd' % ndim)\n",
        "    sources_denom = sources**2\n",
        "    targets_denom = targets**2\n",
        "    numerator = sources*targets\n",
        "    sources_sum = conv_fn(sources, sum_filt, stride=stride, padding=padding)\n",
        "    targets_sum = conv_fn(targets, sum_filt, stride=stride, padding=padding)\n",
        "    sources_denom_sum = conv_fn(sources_denom, sum_filt, stride=stride, padding=padding)\n",
        "    targets_denom_sum = conv_fn(targets_denom, sum_filt, stride=stride, padding=padding)\n",
        "    numerator_sum = conv_fn(numerator, sum_filt, stride=stride, padding=padding)\n",
        "    size = np.prod(window)\n",
        "    u_sources = sources_sum / size\n",
        "    u_targets = targets_sum / size\n",
        "    cross = numerator_sum - u_targets * sources_sum - u_sources * targets_sum + u_sources * u_targets * size\n",
        "    sources_var = sources_denom_sum - 2 * u_sources * sources_sum + u_sources * u_sources * size\n",
        "    targets_var = targets_denom_sum - 2 * u_targets * targets_sum + u_targets * u_targets * size\n",
        "    ncc = cross * cross / (sources_var * targets_var + 1e-5)\n",
        "    return -tc.mean(ncc)\n",
        "\n",
        "def diffusion_tc(displacement_field: tc.Tensor, device: str=\"cpu\", **params):\n",
        "    \"\"\"\n",
        "    Diffusive regularization.\n",
        "    \"\"\"\n",
        "    ndim = len(displacement_field.size()) - 2\n",
        "    if ndim == 3:\n",
        "        dx = (displacement_field[:, 1:, :, :, :] - displacement_field[:, :-1, :, :, :])**2\n",
        "        dy = (displacement_field[:, :, 1:, :, :] - displacement_field[:, :, :-1, :, :])**2\n",
        "        dz = (displacement_field[:, :, :, 1:, :] - displacement_field[:, :, :, :-1, :])**2\n",
        "        diffusion_reg = (tc.mean(dx) + tc.mean(dy) + tc.mean(dz)) / 3\n",
        "    else:\n",
        "        raise ValueError(\"Unsupported number of dimensions.\")\n",
        "    return diffusion_reg"
      ],
      "metadata": {
        "id": "WrCEhBfcwBMg"
      },
      "execution_count": 43,
      "outputs": []
    },
    {
      "cell_type": "code",
      "source": [
        "import torch as tc\n",
        "import torch.nn.functional as F\n",
        "from torch.utils.tensorboard import SummaryWriter\n",
        "\n",
        "def training(model, training_dataloader, validation_dataloader,\n",
        "             disimilarity_function, regularization_function, regularization_coefficient,\n",
        "             optimizer, num_epochs, logger, device):\n",
        "\n",
        "    for epoch in range(num_epochs):\n",
        "        model.train()\n",
        "        total_loss = 0.0\n",
        "        for sources, targets, sources_masks, targets_masks in training_dataloader:\n",
        "            sources, targets, sources_masks, targets_masks = sources.to(device), targets.to(device), sources_masks.to(device), targets_masks.to(device)\n",
        "\n",
        "            displacement_fields = model(tc.cat((sources, targets), dim=1))\n",
        "            similarity_loss = disimilarity_function(sources, warp_tensor(targets, displacement_fields, device=device))\n",
        "            regularization_loss = regularization_coefficient * regularization_function(displacement_fields)\n",
        "            loss = similarity_loss + regularization_loss\n",
        "\n",
        "            optimizer.zero_grad()\n",
        "            loss.backward()\n",
        "            optimizer.step()\n",
        "\n",
        "            total_loss += loss.item() * sources.size(0)\n",
        "\n",
        "        training_loss = total_loss / len(training_dataloader.dataset)\n",
        "\n",
        "        model.eval()\n",
        "        total_val_loss = 0.0\n",
        "        with tc.no_grad():\n",
        "            for sources, targets, sources_masks, targets_masks in validation_dataloader:\n",
        "                sources, targets, sources_masks, targets_masks = sources.to(device), targets.to(device), sources_masks.to(device), targets_masks.to(device)\n",
        "\n",
        "                displacement_fields = model(tc.cat((sources, targets), dim=1))\n",
        "\n",
        "                similarity_loss = disimilarity_function(sources, warp_tensor(targets, displacement_fields, device=device))\n",
        "                regularization_loss = regularization_coefficient * regularization_function(displacement_fields)\n",
        "                loss = similarity_loss + regularization_loss\n",
        "\n",
        "                total_val_loss += loss.item() * sources.size(0)\n",
        "\n",
        "        validation_loss = total_val_loss / len(validation_dataloader.dataset)\n",
        "\n",
        "        logger.info(f'Epoch {epoch + 1}/{num_epochs}, Training Loss: {training_loss}, Validation Loss: {validation_loss}')\n",
        "\n",
        "    logger.info('Training completed.')\n"
      ],
      "metadata": {
        "id": "AqiLthGlwGPA"
      },
      "execution_count": 44,
      "outputs": []
    },
    {
      "cell_type": "code",
      "source": [
        "learning_rate = 0.003\n",
        "model = RegUNet()\n",
        "batch_size = 16\n",
        "num_epochs = 150\n",
        "parameters = model.parameters()\n",
        "optimizer = tc.optim.Adam(parameters, lr=learning_rate)\n",
        "device = \"cuda:0\"\n",
        "logger = SummaryWriter(log_dir=os.path.join(dataset_path, \"logs\"), comment=\"RegUNet\")\n",
        "disimilarity_function = ncc_local_tc\n",
        "regularization_function = diffusion_tc\n",
        "regularization_coefficient = 3500\n",
        "\n",
        "\n",
        "training_dataset = MRRegistrationDataset(images_path, labels_path, processed_training_csv_path)\n",
        "training_dataloader = tc.utils.data.DataLoader(training_dataset, batch_size=batch_size, shuffle=True)\n",
        "\n",
        "validation_dataset = MRRegistrationDataset(images_path, labels_path, processed_validation_csv_path)\n",
        "validation_dataloader = tc.utils.data.DataLoader(validation_dataset, batch_size=batch_size, shuffle=False)"
      ],
      "metadata": {
        "id": "NzMnTgBfwSKc"
      },
      "execution_count": 45,
      "outputs": []
    },
    {
      "cell_type": "code",
      "source": [
        "\n",
        "log_dir = \"./logs\"\n",
        "logger = SummaryWriter(log_dir=log_dir)\n"
      ],
      "metadata": {
        "id": "FABa0sMdwfBz"
      },
      "execution_count": 46,
      "outputs": []
    }
  ]
}